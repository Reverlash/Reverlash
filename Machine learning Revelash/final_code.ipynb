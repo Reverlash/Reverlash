{
 "cells": [
  {
   "cell_type": "code",
   "execution_count": 6,
   "metadata": {},
   "outputs": [],
   "source": [
    "import pandas as pd\n",
    "import numpy as np\n",
    "import matplotlib.pyplot as plt\n",
    "from sklearn.svm import SVC\n",
    "from geopy.geocoders import Nominatim"
   ]
  },
  {
   "cell_type": "code",
   "execution_count": 7,
   "metadata": {},
   "outputs": [],
   "source": [
    "data = pd.read_csv(\"data_final.csv\", sep = \",\")"
   ]
  },
  {
   "cell_type": "code",
   "execution_count": 8,
   "metadata": {},
   "outputs": [
    {
     "data": {
      "text/html": [
       "<div>\n",
       "<style scoped>\n",
       "    .dataframe tbody tr th:only-of-type {\n",
       "        vertical-align: middle;\n",
       "    }\n",
       "\n",
       "    .dataframe tbody tr th {\n",
       "        vertical-align: top;\n",
       "    }\n",
       "\n",
       "    .dataframe thead th {\n",
       "        text-align: right;\n",
       "    }\n",
       "</style>\n",
       "<table border=\"1\" class=\"dataframe\">\n",
       "  <thead>\n",
       "    <tr style=\"text-align: right;\">\n",
       "      <th></th>\n",
       "      <th>District</th>\n",
       "      <th>population</th>\n",
       "      <th>e-rickshaw</th>\n",
       "      <th>Cars</th>\n",
       "      <th>lat</th>\n",
       "      <th>long</th>\n",
       "    </tr>\n",
       "  </thead>\n",
       "  <tbody>\n",
       "    <tr>\n",
       "      <th>0</th>\n",
       "      <td>South</td>\n",
       "      <td>2731929</td>\n",
       "      <td>6066</td>\n",
       "      <td>621905</td>\n",
       "      <td>28.536316</td>\n",
       "      <td>77.221834</td>\n",
       "    </tr>\n",
       "    <tr>\n",
       "      <th>1</th>\n",
       "      <td>West</td>\n",
       "      <td>2543243</td>\n",
       "      <td>2773</td>\n",
       "      <td>221911</td>\n",
       "      <td>28.621899</td>\n",
       "      <td>77.087838</td>\n",
       "    </tr>\n",
       "    <tr>\n",
       "      <th>2</th>\n",
       "      <td>North West</td>\n",
       "      <td>3656539</td>\n",
       "      <td>5642</td>\n",
       "      <td>144130</td>\n",
       "      <td>28.749472</td>\n",
       "      <td>77.056533</td>\n",
       "    </tr>\n",
       "    <tr>\n",
       "      <th>3</th>\n",
       "      <td>North</td>\n",
       "      <td>887978</td>\n",
       "      <td>2388</td>\n",
       "      <td>240864</td>\n",
       "      <td>28.699381</td>\n",
       "      <td>77.203138</td>\n",
       "    </tr>\n",
       "    <tr>\n",
       "      <th>4</th>\n",
       "      <td>North East</td>\n",
       "      <td>2241624</td>\n",
       "      <td>4359</td>\n",
       "      <td>132895</td>\n",
       "      <td>28.700217</td>\n",
       "      <td>77.163790</td>\n",
       "    </tr>\n",
       "    <tr>\n",
       "      <th>5</th>\n",
       "      <td>East</td>\n",
       "      <td>1709346</td>\n",
       "      <td>1590</td>\n",
       "      <td>112168</td>\n",
       "      <td>28.614624</td>\n",
       "      <td>77.312158</td>\n",
       "    </tr>\n",
       "    <tr>\n",
       "      <th>6</th>\n",
       "      <td>South East</td>\n",
       "      <td>142004</td>\n",
       "      <td>2181</td>\n",
       "      <td>288054</td>\n",
       "      <td>28.731644</td>\n",
       "      <td>77.300851</td>\n",
       "    </tr>\n",
       "    <tr>\n",
       "      <th>7</th>\n",
       "      <td>South West</td>\n",
       "      <td>2292958</td>\n",
       "      <td>2554</td>\n",
       "      <td>87047</td>\n",
       "      <td>28.619930</td>\n",
       "      <td>77.248744</td>\n",
       "    </tr>\n",
       "    <tr>\n",
       "      <th>8</th>\n",
       "      <td>Central</td>\n",
       "      <td>582320</td>\n",
       "      <td>2548</td>\n",
       "      <td>363240</td>\n",
       "      <td>28.700217</td>\n",
       "      <td>77.163790</td>\n",
       "    </tr>\n",
       "  </tbody>\n",
       "</table>\n",
       "</div>"
      ],
      "text/plain": [
       "     District  population  e-rickshaw    Cars        lat       long\n",
       "0       South     2731929        6066  621905  28.536316  77.221834\n",
       "1        West     2543243        2773  221911  28.621899  77.087838\n",
       "2  North West     3656539        5642  144130  28.749472  77.056533\n",
       "3       North      887978        2388  240864  28.699381  77.203138\n",
       "4  North East     2241624        4359  132895  28.700217  77.163790\n",
       "5        East     1709346        1590  112168  28.614624  77.312158\n",
       "6  South East      142004        2181  288054  28.731644  77.300851\n",
       "7  South West     2292958        2554   87047  28.619930  77.248744\n",
       "8     Central      582320        2548  363240  28.700217  77.163790"
      ]
     },
     "execution_count": 8,
     "metadata": {},
     "output_type": "execute_result"
    }
   ],
   "source": [
    "data"
   ]
  },
  {
   "cell_type": "code",
   "execution_count": 9,
   "metadata": {},
   "outputs": [],
   "source": [
    "district=data['District'].tolist()\n",
    "population=data['population'].tolist()\n",
    "erick=data['e-rickshaw'].tolist()\n",
    "cars=data['Cars'].tolist()"
   ]
  },
  {
   "cell_type": "code",
   "execution_count": 10,
   "metadata": {},
   "outputs": [
    {
     "data": {
      "text/plain": [
       "[6066, 2773, 5642, 2388, 4359, 1590, 2181, 2554, 2548]"
      ]
     },
     "execution_count": 10,
     "metadata": {},
     "output_type": "execute_result"
    }
   ],
   "source": [
    "erick"
   ]
  },
  {
   "cell_type": "code",
   "execution_count": 30,
   "metadata": {},
   "outputs": [
    {
     "data": {
      "image/png": "[encoded data removed]",
      "text/plain": [
       "<matplotlib.figure.Figure at 0x1d908bcc128>"
      ]
     },
     "metadata": {},
     "output_type": "display_data"
    }
   ],
   "source": [
    "n_groups = 9\n",
    "fig, ax = plt.subplots()\n",
    "bar_width = 0.35\n",
    "opacity = 0.8\n",
    "index = np.arange(n_groups)\n",
    "rects1 = plt.bar(index, erick, bar_width,\n",
    "                 alpha=opacity,\n",
    "                 color='orange',\n",
    "                 label='E-Rickshaws')\n",
    " \n",
    "plt.xlabel('District')\n",
    "plt.ylabel('E-Rickshaws demand')\n",
    "plt.title('District vs Demand')\n",
    "plt.xticks(index, district, rotation = 30)\n",
    "plt.legend()\n",
    " \n",
    "plt.tight_layout()\n",
    "plt.show()\n",
    "fig.savefig('erickshaw.png')"
   ]
  },
  {
   "cell_type": "code",
   "execution_count": 31,
   "metadata": {},
   "outputs": [
    {
     "data": {
      "image/png": "[encoded data removed]",
      "text/plain": [
       "<matplotlib.figure.Figure at 0x1d908cc50f0>"
      ]
     },
     "metadata": {},
     "output_type": "display_data"
    }
   ],
   "source": [
    "n_groups = 9\n",
    "fig, ax = plt.subplots()\n",
    "bar_width = 0.35\n",
    "opacity = 0.8\n",
    "index = np.arange(n_groups)\n",
    "rects1 = plt.bar(index, cars, bar_width,\n",
    "                 alpha=opacity,\n",
    "                 color='c',\n",
    "                 label='Cars')\n",
    " \n",
    "plt.xlabel('District')\n",
    "plt.ylabel('Cars demand')\n",
    "plt.title('District vs Demand')\n",
    "plt.xticks(index, district, rotation = 30)\n",
    "plt.legend()\n",
    " \n",
    "plt.tight_layout()\n",
    "plt.show()\n",
    "fig.savefig('cars.png')"
   ]
  },
  {
   "cell_type": "code",
   "execution_count": 32,
   "metadata": {},
   "outputs": [
    {
     "data": {
      "image/png": "[encoded data removed]",
      "text/plain": [
       "<matplotlib.figure.Figure at 0x1d908cf7828>"
      ]
     },
     "metadata": {},
     "output_type": "display_data"
    }
   ],
   "source": [
    "n_groups = 9\n",
    "fig, ax = plt.subplots()\n",
    "bar_width = 0.35\n",
    "opacity = 0.8\n",
    "index = np.arange(n_groups)\n",
    "rects1 = plt.bar(index, population, bar_width,\n",
    "                 alpha=opacity,\n",
    "                 color='r',\n",
    "                 label='Population')\n",
    " \n",
    "plt.xlabel('District')\n",
    "plt.ylabel('Population')\n",
    "plt.title('District vs Population')\n",
    "plt.xticks(index, district, rotation = 30)\n",
    "plt.legend()\n",
    " \n",
    "plt.tight_layout()\n",
    "plt.show()\n",
    "fig.savefig('population.png')"
   ]
  },
  {
   "cell_type": "code",
   "execution_count": 53,
   "metadata": {},
   "outputs": [],
   "source": [
    "X = data[['lat','long']]\n",
    "Y = data['e-rickshaw']+ data['Cars']"
   ]
  },
  {
   "cell_type": "code",
   "execution_count": 54,
   "metadata": {},
   "outputs": [],
   "source": [
    "model = SVC(kernel = 'rbf')"
   ]
  },
  {
   "cell_type": "code",
   "execution_count": 55,
   "metadata": {},
   "outputs": [
    {
     "data": {
      "text/plain": [
       "SVC(C=1.0, cache_size=200, class_weight=None, coef0=0.0,\n",
       "  decision_function_shape='ovr', degree=3, gamma='auto', kernel='rbf',\n",
       "  max_iter=-1, probability=False, random_state=None, shrinking=True,\n",
       "  tol=0.001, verbose=False)"
      ]
     },
     "execution_count": 55,
     "metadata": {},
     "output_type": "execute_result"
    }
   ],
   "source": [
    "model.fit(X, Y)"
   ]
  },
  {
   "cell_type": "code",
   "execution_count": 56,
   "metadata": {},
   "outputs": [
    {
     "data": {
      "text/plain": [
       "array([224684], dtype=int64)"
      ]
     },
     "execution_count": 56,
     "metadata": {},
     "output_type": "execute_result"
    }
   ],
   "source": [
    "model.predict([[28.621899, 77.087838]])"
   ]
  },
  {
   "cell_type": "code",
   "execution_count": 57,
   "metadata": {},
   "outputs": [
    {
     "data": {
      "text/plain": [
       "0    627971\n",
       "8    365788\n",
       "6    290235\n",
       "3    243252\n",
       "1    224684\n",
       "2    149772\n",
       "4    137254\n",
       "5    113758\n",
       "7     89601\n",
       "dtype: int64"
      ]
     },
     "execution_count": 57,
     "metadata": {},
     "output_type": "execute_result"
    }
   ],
   "source": [
    "Y.nlargest(n = 9)"
   ]
  },
  {
   "cell_type": "code",
   "execution_count": 58,
   "metadata": {},
   "outputs": [],
   "source": [
    "def no_of_station(score):\n",
    "    if score>400000:\n",
    "        return 4\n",
    "    elif score<=400000 or score >250000:\n",
    "        return 3\n",
    "    elif score<=250000 or score>110000:\n",
    "        return 2\n",
    "    else:\n",
    "        return 1"
   ]
  },
  {
   "cell_type": "code",
   "execution_count": 20,
   "metadata": {},
   "outputs": [],
   "source": [
    "geolocator = Nominatim()"
   ]
  },
  {
   "cell_type": "code",
   "execution_count": 61,
   "metadata": {},
   "outputs": [
    {
     "name": "stdout",
     "output_type": "stream",
     "text": [
      "Enter location to build charge stations rohini\n",
      "Upto 3 charge points recommended at rohini\n"
     ]
    }
   ],
   "source": [
    "userinput = input(\"Enter location to build charge stations \")\n",
    "location = geolocator.geocode(userinput)\n",
    "#print((location.latitude, location.longitude))\n",
    "prediction = model.predict([[location.latitude, location.longitude]])\n",
    "print(\"Upto {} charge points recommended at {}\".format(no_of_station(prediction), userinput))"
   ]
  },
  {
   "cell_type": "code",
   "execution_count": null,
   "metadata": {},
   "outputs": [],
   "source": []
  }
 ],
 "metadata": {
  "kernelspec": {
   "display_name": "Python 3",
   "language": "python",
   "name": "python3"
  }
 },
 "nbformat": 4,
 "nbformat_minor": 2
}
